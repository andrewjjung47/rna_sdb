{
 "cells": [
  {
   "cell_type": "markdown",
   "metadata": {},
   "source": [
    "# Rfam investigation to convert alignment to structures\n",
    "\n",
    "At a high-level, secondary structure of an aligned sequence can be obtained by projecting the consensus structure to the aligned sequence. However, details on exactly how this is done is a bit of a question.\n",
    "\n",
    "Here, structures obtained from a custom script is compared against ones from R2DT"
   ]
  },
  {
   "cell_type": "code",
   "execution_count": 32,
   "metadata": {},
   "outputs": [],
   "source": [
    "import re\n",
    "regex = re.compile(r'[a-zA-Z_\\,-\\.]')\n",
    "\n",
    "\n",
    "def get_structure(seq_align: str, consensus_st: str):\n",
    "    assert len(seq_align) == len(consensus_st)\n",
    "\n",
    "    seq, structure = [], []\n",
    "    for base, st_char in zip(seq_align, consensus_st):\n",
    "        if base == '-':\n",
    "            pass\n",
    "        elif base in ['A', 'C', 'G', 'U']:\n",
    "            seq.append(base)\n",
    "            structure.append(st_char)\n",
    "        else:\n",
    "            raise ValueError(f\"Invalid base {base}\")\n",
    "\n",
    "    seq = ''.join(seq)\n",
    "    structure = ''.join(structure)\n",
    "\n",
    "    return seq, structure\n",
    "\n",
    "def wuss_to_db(structure: str):\n",
    "    db_st = []\n",
    "    for i in structure:\n",
    "        if i in ['(', '<', '[']:\n",
    "            db_st.append('(')\n",
    "        elif i in [')', '>', ']']:\n",
    "            db_st.append(')')\n",
    "        elif re.match(regex, i):\n",
    "            db_st.append('.')\n",
    "\n",
    "    db_st = ''.join(db_st)\n",
    "\n",
    "    assert len(db_st) == len(structure)\n",
    "\n",
    "    return db_st"
   ]
  },
  {
   "cell_type": "code",
   "execution_count": 36,
   "metadata": {},
   "outputs": [
    {
     "name": "stdout",
     "output_type": "stream",
     "text": [
      "URS0000D6C384_12908/1-78\n",
      "URS0000D6AF4C_6183/1-72\n",
      "Inconsistent structure\n",
      "((((...((((..((((((............))))))(((..........))).....))))......))))\n",
      ".(((...((((..((((((............))))))(((..........))).....)))).......)))\n",
      "URS0000D669BF_12908/1-56\n",
      "URS0000D6C67E_12908\n"
     ]
    }
   ],
   "source": [
    "# Test cases from RF03160\n",
    "# Stockholm file from https://rfam.org/family/RF03160/alignment?acc=RF03160&format=stockholm&download=0\n",
    "cons_struct = '((((.---.((((BB<<<<<<__.................._____........................................................_>>>>>><<<__AAA__bb._>>>................,,,,,........................)))).--aaa....))))'\n",
    "\n",
    "print('URS0000D6C384_12908/1-78')\n",
    "seq_align = 'UUUU-UAA-CCCAGCCACUAGCAUUGACA------------CUU---------------------------------------------------UGUC-GUGUUCGUGCCGGUCCCAAGC-CCGG----------------AGAAAA-----------------------UGGG-GAGGU----UUUU'\n",
    "seq, structure = get_structure(seq_align, cons_struct)\n",
    "assert seq == 'UUUUUAACCCAGCCACUAGCAUUGACACUUUGUCGUGUUCGUGCCGGUCCCAAGCCCGGAGAAAAUGGGGAGGUUUUU'\n",
    "target_st = '((((...((((..((((((..................))))))(((..........)))......)))).....))))'\n",
    "if wuss_to_db(structure) != target_st:\n",
    "    print('Inconsistent structure')\n",
    "    print(wuss_to_db(structure))\n",
    "    print(target_st)\n",
    "\n",
    "print('URS0000D6AF4C_6183/1-72')\n",
    "seq_align = 'CUCU-CAA-CUCCGCCUGUAGCUCC----------------UCCG------------------------------------------------------GGGGUUACUGCCGGUCCCAAGC-CCGG----------------GUAAA------------------------GGAG-GAGGGU---CGGG'\n",
    "seq, structure = get_structure(seq_align, cons_struct)\n",
    "assert seq == 'CUCUCAACUCCGCCUGUAGCUCCUCCGGGGGUUACUGCCGGUCCCAAGCCCGGGUAAAGGAGGAGGGUCGGG'\n",
    "target_st = '.(((...((((..((((((............))))))(((..........))).....)))).......)))'\n",
    "if wuss_to_db(structure) != target_st:\n",
    "    print('Inconsistent structure')\n",
    "    print(wuss_to_db(structure))\n",
    "    print(target_st)\n",
    "\n",
    "# URS0000D6C49D_12908/29-85\n",
    "# Alignment does not exist in RNAcentral\n",
    "# seq_align = 'GCAC-UAA-UGUAGC--------------------------UCAGA---------------------------------------------------------------CCUGUGACAAGC-CAAG----------------GCUAGAAAAA-------------------UACA-GAGUC----GUGC'\n",
    "# seq, structure = get_structure(seq_align, cons_struct)\n",
    "# assert seq == 'CUCUCAACUCCGCCUGUAGCUCCUCCGGGGGUUACUGCCGGUCCCAAGCCCGGGUAAAGGAGGAGGGUCGGG'\n",
    "# target_st = '.(((...((((..((((((............))))))(((..........))).....)))).......)))'\n",
    "# if wuss_to_db(structure) != target_st:\n",
    "#     print('Inconsistent structure')\n",
    "#     print(wuss_to_db(structure))\n",
    "#     print(target_st)\n",
    "\n",
    "print('URS0000D669BF_12908/1-56')\n",
    "seq_align = 'GGCC-UAA-UGCAGC--------------------------AUAGU---------------------------------------------------------------CCUGUCACAAGC-CAGG----------------CUGAAAAA---------------------UGCA-GAGUGA---GGCA'\n",
    "seq, structure = get_structure(seq_align, cons_struct)\n",
    "assert seq == 'GGCCUAAUGCAGCAUAGUCCUGUCACAAGCCAGGCUGAAAAAUGCAGAGUGAGGCA'\n",
    "target_st = '((((...((((.......(((..........)))........))))......))))'\n",
    "if wuss_to_db(structure) != target_st:\n",
    "    print('Inconsistent structure')\n",
    "    print(wuss_to_db(structure))\n",
    "    print(target_st)\n",
    "\n",
    "print('URS0000D6C67E_12908')\n",
    "seq_align = 'CUCC-UAA-UGCAGC--------------------------CGAAG---------------------------------------------------------------GCGGUCACAAGC-CCGA----------------UUGAGAGA---------------------UGCA-GAGUG----GGAA'\n",
    "seq, structure = get_structure(seq_align, cons_struct)\n",
    "assert seq == 'CUCCUAAUGCAGCCGAAGGCGGUCACAAGCCCGAUUGAGAGAUGCAGAGUGGGAA'\n",
    "target_st = '((((...((((.......(((..........)))........)))).....))))'\n",
    "if wuss_to_db(structure) != target_st:\n",
    "    print('Inconsistent structure')\n",
    "    print(wuss_to_db(structure))\n",
    "    print(target_st)"
   ]
  },
  {
   "cell_type": "markdown",
   "metadata": {},
   "source": [
    "Many of the sequences in the alignment file actually does not have pre-computed structures in RNAcentral. There are also few cases where the aligned sequences do not exist in RNAcentral"
   ]
  }
 ],
 "metadata": {
  "kernelspec": {
   "display_name": "rna_sdb",
   "language": "python",
   "name": "python3"
  },
  "language_info": {
   "codemirror_mode": {
    "name": "ipython",
    "version": 3
   },
   "file_extension": ".py",
   "mimetype": "text/x-python",
   "name": "python",
   "nbconvert_exporter": "python",
   "pygments_lexer": "ipython3",
   "version": "3.12.2"
  }
 },
 "nbformat": 4,
 "nbformat_minor": 2
}

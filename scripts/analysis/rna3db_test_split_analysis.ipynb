{
 "cells": [
  {
   "cell_type": "markdown",
   "metadata": {},
   "source": [
    "# Investigate RNA3DB test splits\n",
    "\n",
    "For train / test splits, we want to make sure there are no potential cases with sequence or structural similarities. This means for each split, we want to construct an RNA3DB test split such that no structure that can potentially be similar to the training split remains in the test split. However, with this strategy, it might be possible that some of the structures from RNA3DB never end up being included in the test splits. \n",
    "\n",
    "This notebook analyzes how much of the structures from RNA3DB eventually get included in the test splits"
   ]
  },
  {
   "cell_type": "code",
   "execution_count": 5,
   "metadata": {},
   "outputs": [],
   "source": [
    "from glob import glob\n",
    "import json\n",
    "import pandas as pd\n",
    "\n",
    "from rna_sdb.datasets import RNA_SDB_PATH, RNA3DB_PATH\n",
    "from rna3db.tabular import read_tbls_from_dir"
   ]
  },
  {
   "cell_type": "code",
   "execution_count": 2,
   "metadata": {},
   "outputs": [
    {
     "name": "stdout",
     "output_type": "stream",
     "text": [
      "Number of sequences in RNA3Dbase: 1645\n"
     ]
    }
   ],
   "source": [
    "# Load RNA3DB\n",
    "tbl = read_tbls_from_dir(RNA3DB_PATH / 'rna3db-cmscans')\n",
    "clusters = json.load(open(RNA3DB_PATH / 'rna3db-jsons/cluster.json'))\n",
    "\n",
    "rna3db_seqs = set()\n",
    "for component in clusters:\n",
    "    rna3db_seqs.update(clusters[component].keys())\n",
    "print(f'Number of sequences in RNA3Dbase: {len(rna3db_seqs)}')"
   ]
  },
  {
   "cell_type": "code",
   "execution_count": 3,
   "metadata": {},
   "outputs": [],
   "source": [
    "# Load Rfam families\n",
    "df_rfamseq_stats = pd.read_csv(RNA_SDB_PATH / \"rfamseq_stats.csv\", sep=\"\\t\")\n",
    "rfam_families = set(df_rfamseq_stats['rfam_family'])"
   ]
  },
  {
   "cell_type": "markdown",
   "metadata": {},
   "source": [
    "## Filter out using relaxed threshold (1.0)"
   ]
  },
  {
   "cell_type": "code",
   "execution_count": 8,
   "metadata": {},
   "outputs": [
    {
     "name": "stdout",
     "output_type": "stream",
     "text": [
      "Number of sequences in test_split_9: 477\n",
      "Number of sequences in test_split_5: 519\n",
      "Number of sequences in test_split_1: 635\n",
      "Number of sequences in test_split_7: 661\n",
      "Number of sequences in test_split_6: 575\n",
      "Number of sequences in test_split_2: 492\n",
      "Number of sequences in test_split_3: 506\n",
      "Number of sequences in test_split_8: 564\n",
      "Number of sequences in test_split_4: 542\n",
      "Number of sequences in RNA3Dbase included in at least one test split: 1200\n"
     ]
    }
   ],
   "source": [
    "seqs_included_in_test = set()\n",
    "\n",
    "for split in RNA_SDB_PATH.glob('test_split_*.lst'):\n",
    "    with open(RNA_SDB_PATH / split) as f:\n",
    "        test_families = set(f.read().splitlines())\n",
    "\n",
    "    train_families = rfam_families.difference(test_families)\n",
    "\n",
    "    rna3db_test_seqs = set()\n",
    "    for seq in rna3db_seqs:\n",
    "        # For each of the sequences in RNA3Dbase, check any possible matches to Rfam families\n",
    "        # Use relaxed e-value threshold to find possible matches. 1.0 used in the paper as well.\n",
    "        matched_families = set(tbl[seq].filter_e_value(1.0).target_accession)\n",
    "\n",
    "        if not matched_families.intersection(train_families):\n",
    "            # If there is no matched family from the training split, add the sequence to the test set\n",
    "            rna3db_test_seqs.add(seq)\n",
    "\n",
    "    print(f'Number of sequences in {split.stem}: {len(rna3db_test_seqs)}')\n",
    "    seqs_included_in_test.update(rna3db_test_seqs)\n",
    "\n",
    "print(f'Number of sequences in RNA3Dbase included in at least one test split: {len(seqs_included_in_test)}')"
   ]
  },
  {
   "cell_type": "markdown",
   "metadata": {},
   "source": [
    "## Filter out using stringent threshold (1e-3)"
   ]
  },
  {
   "cell_type": "code",
   "execution_count": 11,
   "metadata": {},
   "outputs": [
    {
     "name": "stdout",
     "output_type": "stream",
     "text": [
      "Number of sequences in test_split_9: 624\n",
      "Number of sequences in test_split_5: 674\n",
      "Number of sequences in test_split_1: 877\n",
      "Number of sequences in test_split_7: 859\n",
      "Number of sequences in test_split_6: 723\n",
      "Number of sequences in test_split_2: 640\n",
      "Number of sequences in test_split_3: 654\n",
      "Number of sequences in test_split_8: 764\n",
      "Number of sequences in test_split_4: 688\n",
      "Number of sequences in RNA3Dbase included in at least one test split: 1521\n"
     ]
    }
   ],
   "source": [
    "seqs_included_in_test = set()\n",
    "\n",
    "for split in RNA_SDB_PATH.glob('test_split_*.lst'):\n",
    "    with open(RNA_SDB_PATH / split) as f:\n",
    "        test_families = set(f.read().splitlines())\n",
    "\n",
    "    train_families = rfam_families.difference(test_families)\n",
    "\n",
    "    rna3db_test_seqs = set()\n",
    "    for seq in rna3db_seqs:\n",
    "        # For each of the sequences in RNA3Dbase, check any possible matches to Rfam families\n",
    "        # Use relaxed e-value threshold to find possible matches. 1.0 used in the paper as well.\n",
    "        matched_families = set(tbl[seq].filter_e_value(1e-3).target_accession)\n",
    "\n",
    "        if not matched_families.intersection(train_families):\n",
    "            # If there is no matched family from the training split, add the sequence to the test set\n",
    "            rna3db_test_seqs.add(seq)\n",
    "\n",
    "    print(f'Number of sequences in {split.stem}: {len(rna3db_test_seqs)}')\n",
    "    seqs_included_in_test.update(rna3db_test_seqs)\n",
    "\n",
    "print(f'Number of sequences in RNA3Dbase included in at least one test split: {len(seqs_included_in_test)}')"
   ]
  },
  {
   "cell_type": "markdown",
   "metadata": {},
   "source": [
    "## Filter out using top hits"
   ]
  },
  {
   "cell_type": "code",
   "execution_count": 14,
   "metadata": {},
   "outputs": [
    {
     "name": "stdout",
     "output_type": "stream",
     "text": [
      "Number of sequences in test_split_9: 639\n",
      "Number of sequences in test_split_5: 771\n",
      "Number of sequences in test_split_1: 888\n",
      "Number of sequences in test_split_7: 883\n",
      "Number of sequences in test_split_6: 750\n",
      "Number of sequences in test_split_2: 721\n",
      "Number of sequences in test_split_3: 706\n",
      "Number of sequences in test_split_8: 806\n",
      "Number of sequences in test_split_4: 801\n",
      "Number of sequences in RNA3Dbase included in at least one test split: 1585\n"
     ]
    }
   ],
   "source": [
    "seqs_included_in_test = set()\n",
    "\n",
    "for split in RNA_SDB_PATH.glob('test_split_*.lst'):\n",
    "    with open(RNA_SDB_PATH / split) as f:\n",
    "        test_families = set(f.read().splitlines())\n",
    "\n",
    "    train_families = rfam_families.difference(test_families)\n",
    "\n",
    "    rna3db_test_seqs = set()\n",
    "    for seq in rna3db_seqs:\n",
    "        # For each of the sequences in RNA3Dbase, check any possible matches to Rfam families\n",
    "        # Use relaxed e-value threshold to find possible matches. 1.0 used in the paper as well.\n",
    "        matched_families = set(tbl[seq].filter_e_value(1e-3).top_hits.target_accession)\n",
    "\n",
    "        if not matched_families.intersection(train_families):\n",
    "            # If there is no matched family from the training split, add the sequence to the test set\n",
    "            rna3db_test_seqs.add(seq)\n",
    "\n",
    "    print(f'Number of sequences in {split.stem}: {len(rna3db_test_seqs)}')\n",
    "    seqs_included_in_test.update(rna3db_test_seqs)\n",
    "\n",
    "print(f'Number of sequences in RNA3Dbase included in at least one test split: {len(seqs_included_in_test)}')"
   ]
  },
  {
   "cell_type": "markdown",
   "metadata": {},
   "source": [
    "In summary, most structures from RNA3DB get included in at least one of the test splits. Since running inference on the entire test set is not expensive at all, it is best to run model predictions over the entire dataset and report for each case"
   ]
  }
 ],
 "metadata": {
  "kernelspec": {
   "display_name": "rna_sdb",
   "language": "python",
   "name": "python3"
  },
  "language_info": {
   "codemirror_mode": {
    "name": "ipython",
    "version": 3
   },
   "file_extension": ".py",
   "mimetype": "text/x-python",
   "name": "python",
   "nbconvert_exporter": "python",
   "pygments_lexer": "ipython3",
   "version": "3.12.2"
  }
 },
 "nbformat": 4,
 "nbformat_minor": 2
}
